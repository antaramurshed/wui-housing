{
 "cells": [
  {
   "cell_type": "markdown",
   "id": "e2362be1-d17c-43a3-8fad-bff7f0f40a7a",
   "metadata": {},
   "source": [
    "# California's Wildfires in Graphs and Charts"
   ]
  },
  {
   "cell_type": "markdown",
   "id": "6ef9d125-8432-430c-8fab-ff6a4ebca0a0",
   "metadata": {},
   "source": [
    "### This Notebook will contain charts and tables featuring information from a dataset of California wildfires from 2013-2020"
   ]
  },
  {
   "cell_type": "markdown",
   "id": "a9e69948-3c02-4771-95e3-e288e7d11f0b",
   "metadata": {},
   "source": [
    "This notebook will detail a table of number of wildfires by county and a graph of wildfires by year. I will be using my notebook 'Wildfire Incidents Data Exploration' as well as lab two and three as my guide."
   ]
  },
  {
   "cell_type": "code",
   "execution_count": 1,
   "id": "23e9f145-1640-4a72-aa4c-1e97fb9de8bb",
   "metadata": {},
   "outputs": [
    {
     "name": "stderr",
     "output_type": "stream",
     "text": [
      "/opt/conda/lib/python3.9/site-packages/geopandas/_compat.py:106: UserWarning: The Shapely GEOS version (3.9.1-CAPI-1.14.2) is incompatible with the GEOS version PyGEOS was compiled with (3.10.1-CAPI-1.16.0). Conversions between both will be slow.\n",
      "  warnings.warn(\n"
     ]
    }
   ],
   "source": [
    "import geopandas as gpd\n",
    "import pandas as pd"
   ]
  },
  {
   "cell_type": "code",
   "execution_count": 2,
   "id": "a6e66b1d-5fde-4a45-aeb4-7597574a8302",
   "metadata": {},
   "outputs": [],
   "source": [
    "df = pd.read_csv('California_Fire_Incidents.csv')"
   ]
  },
  {
   "cell_type": "code",
   "execution_count": 3,
   "id": "e8aaaf7d-bf14-4ceb-9d46-177cd9d09269",
   "metadata": {},
   "outputs": [],
   "source": [
    "CAWildfires = gpd.GeoDataFrame(df, geometry=gpd.points_from_xy(df.Longitude, df.Latitude))"
   ]
  },
  {
   "cell_type": "code",
   "execution_count": 4,
   "id": "2fff28f4-0057-4266-87e8-63a757c60cd6",
   "metadata": {},
   "outputs": [
    {
     "data": {
      "text/plain": [
       "geopandas.geodataframe.GeoDataFrame"
      ]
     },
     "execution_count": 4,
     "metadata": {},
     "output_type": "execute_result"
    }
   ],
   "source": [
    "type(CAWildfires)"
   ]
  },
  {
   "cell_type": "markdown",
   "id": "c0796244-a866-4f85-bb18-e25f256a1e0c",
   "metadata": {},
   "source": [
    "I'm also going to import a few other libraries for this"
   ]
  },
  {
   "cell_type": "code",
   "execution_count": 5,
   "id": "5beeefa3-6659-4d72-9c40-1e604ee63888",
   "metadata": {},
   "outputs": [],
   "source": [
    "import contextily as ctx\n",
    "import matplotlib.pyplot as plt"
   ]
  },
  {
   "cell_type": "markdown",
   "id": "d96d333d-fa4b-4c6a-9e63-01a1505aa225",
   "metadata": {},
   "source": [
    "From here I am going to trim the columns down."
   ]
  },
  {
   "cell_type": "code",
   "execution_count": 7,
   "id": "13a91c2d-5c2c-454f-a30c-049e9e9d86b6",
   "metadata": {},
   "outputs": [
    {
     "name": "stdout",
     "output_type": "stream",
     "text": [
      "<class 'geopandas.geodataframe.GeoDataFrame'>\n",
      "RangeIndex: 1636 entries, 0 to 1635\n",
      "Data columns (total 41 columns):\n",
      " #   Column                Non-Null Count  Dtype   \n",
      "---  ------                --------------  -----   \n",
      " 0   AcresBurned           1633 non-null   float64 \n",
      " 1   Active                1636 non-null   bool    \n",
      " 2   AdminUnit             1636 non-null   object  \n",
      " 3   AirTankers            28 non-null     float64 \n",
      " 4   ArchiveYear           1636 non-null   int64   \n",
      " 5   CalFireIncident       1636 non-null   bool    \n",
      " 6   CanonicalUrl          1636 non-null   object  \n",
      " 7   ConditionStatement    284 non-null    object  \n",
      " 8   ControlStatement      111 non-null    object  \n",
      " 9   Counties              1636 non-null   object  \n",
      " 10  CountyIds             1636 non-null   object  \n",
      " 11  CrewsInvolved         171 non-null    float64 \n",
      " 12  Dozers                123 non-null    float64 \n",
      " 13  Engines               191 non-null    float64 \n",
      " 14  Extinguished          1577 non-null   object  \n",
      " 15  Fatalities            21 non-null     float64 \n",
      " 16  Featured              1636 non-null   bool    \n",
      " 17  Final                 1636 non-null   bool    \n",
      " 18  FuelType              12 non-null     object  \n",
      " 19  Helicopters           84 non-null     float64 \n",
      " 20  Injuries              120 non-null    float64 \n",
      " 21  Latitude              1636 non-null   float64 \n",
      " 22  Location              1636 non-null   object  \n",
      " 23  Longitude             1636 non-null   float64 \n",
      " 24  MajorIncident         1636 non-null   bool    \n",
      " 25  Name                  1636 non-null   object  \n",
      " 26  PercentContained      1633 non-null   float64 \n",
      " 27  PersonnelInvolved     204 non-null    float64 \n",
      " 28  Public                1636 non-null   bool    \n",
      " 29  SearchDescription     1619 non-null   object  \n",
      " 30  SearchKeywords        1433 non-null   object  \n",
      " 31  Started               1636 non-null   object  \n",
      " 32  Status                1636 non-null   object  \n",
      " 33  StructuresDamaged     67 non-null     float64 \n",
      " 34  StructuresDestroyed   175 non-null    float64 \n",
      " 35  StructuresEvacuated   0 non-null      float64 \n",
      " 36  StructuresThreatened  30 non-null     float64 \n",
      " 37  UniqueId              1636 non-null   object  \n",
      " 38  Updated               1636 non-null   object  \n",
      " 39  WaterTenders          146 non-null    float64 \n",
      " 40  geometry              1636 non-null   geometry\n",
      "dtypes: bool(6), float64(17), geometry(1), int64(1), object(16)\n",
      "memory usage: 457.1+ KB\n"
     ]
    }
   ],
   "source": [
    "CAWildfires.info()"
   ]
  },
  {
   "cell_type": "code",
   "execution_count": 8,
   "id": "b190efc4-18ee-4987-b73a-f7bea2b24e96",
   "metadata": {},
   "outputs": [],
   "source": [
    "desired_columns = ['AcresBurned', 'AdminUnit', 'ArchiveYear', 'CalFireIncident', 'Counties', 'CountyIds','Extinguished','Latitude','Longitude','MajorIncident','Name','Started','geometry']"
   ]
  },
  {
   "cell_type": "code",
   "execution_count": 9,
   "id": "9025541c-6d0d-4913-90dd-2d4dc959c2fd",
   "metadata": {},
   "outputs": [
    {
     "data": {
      "text/html": [
       "<div>\n",
       "<style scoped>\n",
       "    .dataframe tbody tr th:only-of-type {\n",
       "        vertical-align: middle;\n",
       "    }\n",
       "\n",
       "    .dataframe tbody tr th {\n",
       "        vertical-align: top;\n",
       "    }\n",
       "\n",
       "    .dataframe thead th {\n",
       "        text-align: right;\n",
       "    }\n",
       "</style>\n",
       "<table border=\"1\" class=\"dataframe\">\n",
       "  <thead>\n",
       "    <tr style=\"text-align: right;\">\n",
       "      <th></th>\n",
       "      <th>AcresBurned</th>\n",
       "      <th>AdminUnit</th>\n",
       "      <th>ArchiveYear</th>\n",
       "      <th>CalFireIncident</th>\n",
       "      <th>Counties</th>\n",
       "      <th>CountyIds</th>\n",
       "      <th>Extinguished</th>\n",
       "      <th>Latitude</th>\n",
       "      <th>Longitude</th>\n",
       "      <th>MajorIncident</th>\n",
       "      <th>Name</th>\n",
       "      <th>Started</th>\n",
       "      <th>geometry</th>\n",
       "    </tr>\n",
       "  </thead>\n",
       "  <tbody>\n",
       "    <tr>\n",
       "      <th>424</th>\n",
       "      <td>21.0</td>\n",
       "      <td>CAL FIRE Riverside County Fire</td>\n",
       "      <td>2015</td>\n",
       "      <td>True</td>\n",
       "      <td>Riverside</td>\n",
       "      <td>33</td>\n",
       "      <td>2015-07-12T19:48:00Z</td>\n",
       "      <td>33.986204</td>\n",
       "      <td>-117.439420</td>\n",
       "      <td>True</td>\n",
       "      <td>Spider Fire</td>\n",
       "      <td>2015-07-12T13:52:00Z</td>\n",
       "      <td>POINT (-117.43942 33.98620)</td>\n",
       "    </tr>\n",
       "    <tr>\n",
       "      <th>197</th>\n",
       "      <td>865.0</td>\n",
       "      <td>Lassen National Forest</td>\n",
       "      <td>2014</td>\n",
       "      <td>False</td>\n",
       "      <td>Tehama</td>\n",
       "      <td>52</td>\n",
       "      <td>2014-01-10T18:30:00Z</td>\n",
       "      <td>40.134597</td>\n",
       "      <td>-121.790183</td>\n",
       "      <td>False</td>\n",
       "      <td>Campbell Fire</td>\n",
       "      <td>2014-01-02T20:00:00Z</td>\n",
       "      <td>POINT (-121.79018 40.13460)</td>\n",
       "    </tr>\n",
       "    <tr>\n",
       "      <th>101</th>\n",
       "      <td>80.0</td>\n",
       "      <td>CAL FIRE / Fresno County Fire</td>\n",
       "      <td>2013</td>\n",
       "      <td>True</td>\n",
       "      <td>Fresno</td>\n",
       "      <td>10</td>\n",
       "      <td>2013-04-09T15:30:00Z</td>\n",
       "      <td>0.000000</td>\n",
       "      <td>0.000000</td>\n",
       "      <td>False</td>\n",
       "      <td>Butte Fire</td>\n",
       "      <td>2013-04-09T12:35:00Z</td>\n",
       "      <td>POINT (0.00000 0.00000)</td>\n",
       "    </tr>\n",
       "    <tr>\n",
       "      <th>1188</th>\n",
       "      <td>125.0</td>\n",
       "      <td>San Bernardino National Forest/San Bernardino ...</td>\n",
       "      <td>2018</td>\n",
       "      <td>False</td>\n",
       "      <td>San Bernardino</td>\n",
       "      <td>36</td>\n",
       "      <td>2019-01-04T09:12:00Z</td>\n",
       "      <td>34.154750</td>\n",
       "      <td>-117.244366</td>\n",
       "      <td>False</td>\n",
       "      <td>Sterling</td>\n",
       "      <td>2018-08-31T17:58:00Z</td>\n",
       "      <td>POINT (-117.24437 34.15475)</td>\n",
       "    </tr>\n",
       "    <tr>\n",
       "      <th>458</th>\n",
       "      <td>2575.0</td>\n",
       "      <td>CAL FIRE Lassen-Modoc Unit</td>\n",
       "      <td>2016</td>\n",
       "      <td>True</td>\n",
       "      <td>Lassen</td>\n",
       "      <td>18</td>\n",
       "      <td>2016-09-22T07:00:00Z</td>\n",
       "      <td>40.391500</td>\n",
       "      <td>-120.784500</td>\n",
       "      <td>True</td>\n",
       "      <td>Willard Fire</td>\n",
       "      <td>2016-09-11T11:33:00Z</td>\n",
       "      <td>POINT (-120.78450 40.39150)</td>\n",
       "    </tr>\n",
       "  </tbody>\n",
       "</table>\n",
       "</div>"
      ],
      "text/plain": [
       "      AcresBurned                                          AdminUnit  \\\n",
       "424          21.0                     CAL FIRE Riverside County Fire   \n",
       "197         865.0                             Lassen National Forest   \n",
       "101          80.0                      CAL FIRE / Fresno County Fire   \n",
       "1188        125.0  San Bernardino National Forest/San Bernardino ...   \n",
       "458        2575.0                         CAL FIRE Lassen-Modoc Unit   \n",
       "\n",
       "      ArchiveYear  CalFireIncident        Counties CountyIds  \\\n",
       "424          2015             True       Riverside        33   \n",
       "197          2014            False          Tehama        52   \n",
       "101          2013             True          Fresno        10   \n",
       "1188         2018            False  San Bernardino        36   \n",
       "458          2016             True          Lassen        18   \n",
       "\n",
       "              Extinguished   Latitude   Longitude  MajorIncident  \\\n",
       "424   2015-07-12T19:48:00Z  33.986204 -117.439420           True   \n",
       "197   2014-01-10T18:30:00Z  40.134597 -121.790183          False   \n",
       "101   2013-04-09T15:30:00Z   0.000000    0.000000          False   \n",
       "1188  2019-01-04T09:12:00Z  34.154750 -117.244366          False   \n",
       "458   2016-09-22T07:00:00Z  40.391500 -120.784500           True   \n",
       "\n",
       "               Name               Started                     geometry  \n",
       "424     Spider Fire  2015-07-12T13:52:00Z  POINT (-117.43942 33.98620)  \n",
       "197   Campbell Fire  2014-01-02T20:00:00Z  POINT (-121.79018 40.13460)  \n",
       "101      Butte Fire  2013-04-09T12:35:00Z      POINT (0.00000 0.00000)  \n",
       "1188       Sterling  2018-08-31T17:58:00Z  POINT (-117.24437 34.15475)  \n",
       "458    Willard Fire  2016-09-11T11:33:00Z  POINT (-120.78450 40.39150)  "
      ]
     },
     "execution_count": 9,
     "metadata": {},
     "output_type": "execute_result"
    }
   ],
   "source": [
    "CAWildfires[desired_columns].sample(5)"
   ]
  },
  {
   "cell_type": "code",
   "execution_count": 10,
   "id": "a6f49377-d36a-4cbb-aad9-aa224d77b649",
   "metadata": {},
   "outputs": [],
   "source": [
    "WF_Trimmed = CAWildfires[desired_columns].copy()"
   ]
  },
  {
   "cell_type": "code",
   "execution_count": 11,
   "id": "c7c8c973-5d37-439f-bcd8-1c2822d0ccc5",
   "metadata": {},
   "outputs": [
    {
     "data": {
      "text/html": [
       "<div>\n",
       "<style scoped>\n",
       "    .dataframe tbody tr th:only-of-type {\n",
       "        vertical-align: middle;\n",
       "    }\n",
       "\n",
       "    .dataframe tbody tr th {\n",
       "        vertical-align: top;\n",
       "    }\n",
       "\n",
       "    .dataframe thead th {\n",
       "        text-align: right;\n",
       "    }\n",
       "</style>\n",
       "<table border=\"1\" class=\"dataframe\">\n",
       "  <thead>\n",
       "    <tr style=\"text-align: right;\">\n",
       "      <th></th>\n",
       "      <th>AcresBurned</th>\n",
       "      <th>AdminUnit</th>\n",
       "      <th>ArchiveYear</th>\n",
       "      <th>CalFireIncident</th>\n",
       "      <th>Counties</th>\n",
       "      <th>CountyIds</th>\n",
       "      <th>Extinguished</th>\n",
       "      <th>Latitude</th>\n",
       "      <th>Longitude</th>\n",
       "      <th>MajorIncident</th>\n",
       "      <th>Name</th>\n",
       "      <th>Started</th>\n",
       "      <th>geometry</th>\n",
       "    </tr>\n",
       "  </thead>\n",
       "  <tbody>\n",
       "    <tr>\n",
       "      <th>0</th>\n",
       "      <td>257314.0</td>\n",
       "      <td>Stanislaus National Forest/Yosemite National Park</td>\n",
       "      <td>2013</td>\n",
       "      <td>True</td>\n",
       "      <td>Tuolumne</td>\n",
       "      <td>55</td>\n",
       "      <td>2013-09-06T18:30:00Z</td>\n",
       "      <td>37.857000</td>\n",
       "      <td>-120.086000</td>\n",
       "      <td>False</td>\n",
       "      <td>Rim Fire</td>\n",
       "      <td>2013-08-17T15:25:00Z</td>\n",
       "      <td>POINT (-120.08600 37.85700)</td>\n",
       "    </tr>\n",
       "    <tr>\n",
       "      <th>1</th>\n",
       "      <td>30274.0</td>\n",
       "      <td>USFS Angeles National Forest/Los Angeles Count...</td>\n",
       "      <td>2013</td>\n",
       "      <td>True</td>\n",
       "      <td>Los Angeles</td>\n",
       "      <td>19</td>\n",
       "      <td>2013-06-08T18:30:00Z</td>\n",
       "      <td>34.585595</td>\n",
       "      <td>-118.423176</td>\n",
       "      <td>False</td>\n",
       "      <td>Powerhouse Fire</td>\n",
       "      <td>2013-05-30T15:28:00Z</td>\n",
       "      <td>POINT (-118.42318 34.58559)</td>\n",
       "    </tr>\n",
       "    <tr>\n",
       "      <th>2</th>\n",
       "      <td>27531.0</td>\n",
       "      <td>CAL FIRE Riverside Unit / San Bernardino Natio...</td>\n",
       "      <td>2013</td>\n",
       "      <td>True</td>\n",
       "      <td>Riverside</td>\n",
       "      <td>33</td>\n",
       "      <td>2013-07-30T18:00:00Z</td>\n",
       "      <td>33.709500</td>\n",
       "      <td>-116.728850</td>\n",
       "      <td>False</td>\n",
       "      <td>Mountain Fire</td>\n",
       "      <td>2013-07-15T13:43:00Z</td>\n",
       "      <td>POINT (-116.72885 33.70950)</td>\n",
       "    </tr>\n",
       "    <tr>\n",
       "      <th>3</th>\n",
       "      <td>27440.0</td>\n",
       "      <td>Tahoe National Forest</td>\n",
       "      <td>2013</td>\n",
       "      <td>False</td>\n",
       "      <td>Placer</td>\n",
       "      <td>31</td>\n",
       "      <td>2013-08-30T08:00:00Z</td>\n",
       "      <td>39.120000</td>\n",
       "      <td>-120.650000</td>\n",
       "      <td>False</td>\n",
       "      <td>American Fire</td>\n",
       "      <td>2013-08-10T16:30:00Z</td>\n",
       "      <td>POINT (-120.65000 39.12000)</td>\n",
       "    </tr>\n",
       "    <tr>\n",
       "      <th>4</th>\n",
       "      <td>24251.0</td>\n",
       "      <td>Ventura County Fire/CAL FIRE</td>\n",
       "      <td>2013</td>\n",
       "      <td>True</td>\n",
       "      <td>Ventura</td>\n",
       "      <td>56</td>\n",
       "      <td>2013-05-11T06:30:00Z</td>\n",
       "      <td>0.000000</td>\n",
       "      <td>0.000000</td>\n",
       "      <td>True</td>\n",
       "      <td>Springs Fire</td>\n",
       "      <td>2013-05-02T07:01:00Z</td>\n",
       "      <td>POINT (0.00000 0.00000)</td>\n",
       "    </tr>\n",
       "    <tr>\n",
       "      <th>...</th>\n",
       "      <td>...</td>\n",
       "      <td>...</td>\n",
       "      <td>...</td>\n",
       "      <td>...</td>\n",
       "      <td>...</td>\n",
       "      <td>...</td>\n",
       "      <td>...</td>\n",
       "      <td>...</td>\n",
       "      <td>...</td>\n",
       "      <td>...</td>\n",
       "      <td>...</td>\n",
       "      <td>...</td>\n",
       "      <td>...</td>\n",
       "    </tr>\n",
       "    <tr>\n",
       "      <th>1631</th>\n",
       "      <td>9.0</td>\n",
       "      <td>CAL FIRE / Riverside County Fire</td>\n",
       "      <td>2019</td>\n",
       "      <td>True</td>\n",
       "      <td>Riverside</td>\n",
       "      <td>33</td>\n",
       "      <td>2019-10-10T18:11:00Z</td>\n",
       "      <td>33.827979</td>\n",
       "      <td>-117.499619</td>\n",
       "      <td>False</td>\n",
       "      <td>Eagle Fire</td>\n",
       "      <td>2019-10-10T12:08:00Z</td>\n",
       "      <td>POINT (-117.49962 33.82798)</td>\n",
       "    </tr>\n",
       "    <tr>\n",
       "      <th>1632</th>\n",
       "      <td>2.0</td>\n",
       "      <td>CAL FIRE Nevada-Yuba-Placer Unit</td>\n",
       "      <td>2019</td>\n",
       "      <td>True</td>\n",
       "      <td>Nevada</td>\n",
       "      <td>29</td>\n",
       "      <td>2019-06-28T17:33:00Z</td>\n",
       "      <td>39.409722</td>\n",
       "      <td>-121.000556</td>\n",
       "      <td>False</td>\n",
       "      <td>Long Fire</td>\n",
       "      <td>2019-06-28T15:03:04Z</td>\n",
       "      <td>POINT (-121.00056 39.40972)</td>\n",
       "    </tr>\n",
       "    <tr>\n",
       "      <th>1633</th>\n",
       "      <td>NaN</td>\n",
       "      <td>Yolo County Fire Protection District</td>\n",
       "      <td>2019</td>\n",
       "      <td>False</td>\n",
       "      <td>Yolo</td>\n",
       "      <td>57</td>\n",
       "      <td>NaN</td>\n",
       "      <td>38.734634</td>\n",
       "      <td>-121.729691</td>\n",
       "      <td>False</td>\n",
       "      <td>Cashe Fire</td>\n",
       "      <td>2019-11-25T12:02:02Z</td>\n",
       "      <td>POINT (-121.72969 38.73463)</td>\n",
       "    </tr>\n",
       "    <tr>\n",
       "      <th>1634</th>\n",
       "      <td>NaN</td>\n",
       "      <td>Camp Pendleton Marine Corps Base</td>\n",
       "      <td>2019</td>\n",
       "      <td>False</td>\n",
       "      <td>San Diego</td>\n",
       "      <td>37</td>\n",
       "      <td>NaN</td>\n",
       "      <td>33.351145</td>\n",
       "      <td>-117.403719</td>\n",
       "      <td>False</td>\n",
       "      <td>Oak Fire</td>\n",
       "      <td>2019-10-22T19:20:44Z</td>\n",
       "      <td>POINT (-117.40372 33.35115)</td>\n",
       "    </tr>\n",
       "    <tr>\n",
       "      <th>1635</th>\n",
       "      <td>NaN</td>\n",
       "      <td>Bureau of Indian Affairs</td>\n",
       "      <td>2019</td>\n",
       "      <td>False</td>\n",
       "      <td>Riverside</td>\n",
       "      <td>33</td>\n",
       "      <td>NaN</td>\n",
       "      <td>33.451480</td>\n",
       "      <td>-116.058980</td>\n",
       "      <td>False</td>\n",
       "      <td>Johnson Fire</td>\n",
       "      <td>2019-10-14T15:32:20Z</td>\n",
       "      <td>POINT (-116.05898 33.45148)</td>\n",
       "    </tr>\n",
       "  </tbody>\n",
       "</table>\n",
       "<p>1636 rows × 13 columns</p>\n",
       "</div>"
      ],
      "text/plain": [
       "      AcresBurned                                          AdminUnit  \\\n",
       "0        257314.0  Stanislaus National Forest/Yosemite National Park   \n",
       "1         30274.0  USFS Angeles National Forest/Los Angeles Count...   \n",
       "2         27531.0  CAL FIRE Riverside Unit / San Bernardino Natio...   \n",
       "3         27440.0                              Tahoe National Forest   \n",
       "4         24251.0                       Ventura County Fire/CAL FIRE   \n",
       "...           ...                                                ...   \n",
       "1631          9.0                   CAL FIRE / Riverside County Fire   \n",
       "1632          2.0                  CAL FIRE Nevada-Yuba-Placer Unit    \n",
       "1633          NaN               Yolo County Fire Protection District   \n",
       "1634          NaN                   Camp Pendleton Marine Corps Base   \n",
       "1635          NaN                           Bureau of Indian Affairs   \n",
       "\n",
       "      ArchiveYear  CalFireIncident     Counties CountyIds  \\\n",
       "0            2013             True     Tuolumne        55   \n",
       "1            2013             True  Los Angeles        19   \n",
       "2            2013             True    Riverside        33   \n",
       "3            2013            False       Placer        31   \n",
       "4            2013             True      Ventura        56   \n",
       "...           ...              ...          ...       ...   \n",
       "1631         2019             True    Riverside        33   \n",
       "1632         2019             True       Nevada        29   \n",
       "1633         2019            False         Yolo        57   \n",
       "1634         2019            False    San Diego        37   \n",
       "1635         2019            False    Riverside        33   \n",
       "\n",
       "              Extinguished   Latitude   Longitude  MajorIncident  \\\n",
       "0     2013-09-06T18:30:00Z  37.857000 -120.086000          False   \n",
       "1     2013-06-08T18:30:00Z  34.585595 -118.423176          False   \n",
       "2     2013-07-30T18:00:00Z  33.709500 -116.728850          False   \n",
       "3     2013-08-30T08:00:00Z  39.120000 -120.650000          False   \n",
       "4     2013-05-11T06:30:00Z   0.000000    0.000000           True   \n",
       "...                    ...        ...         ...            ...   \n",
       "1631  2019-10-10T18:11:00Z  33.827979 -117.499619          False   \n",
       "1632  2019-06-28T17:33:00Z  39.409722 -121.000556          False   \n",
       "1633                   NaN  38.734634 -121.729691          False   \n",
       "1634                   NaN  33.351145 -117.403719          False   \n",
       "1635                   NaN  33.451480 -116.058980          False   \n",
       "\n",
       "                 Name               Started                     geometry  \n",
       "0            Rim Fire  2013-08-17T15:25:00Z  POINT (-120.08600 37.85700)  \n",
       "1     Powerhouse Fire  2013-05-30T15:28:00Z  POINT (-118.42318 34.58559)  \n",
       "2       Mountain Fire  2013-07-15T13:43:00Z  POINT (-116.72885 33.70950)  \n",
       "3       American Fire  2013-08-10T16:30:00Z  POINT (-120.65000 39.12000)  \n",
       "4        Springs Fire  2013-05-02T07:01:00Z      POINT (0.00000 0.00000)  \n",
       "...               ...                   ...                          ...  \n",
       "1631       Eagle Fire  2019-10-10T12:08:00Z  POINT (-117.49962 33.82798)  \n",
       "1632        Long Fire  2019-06-28T15:03:04Z  POINT (-121.00056 39.40972)  \n",
       "1633      Cashe Fire   2019-11-25T12:02:02Z  POINT (-121.72969 38.73463)  \n",
       "1634         Oak Fire  2019-10-22T19:20:44Z  POINT (-117.40372 33.35115)  \n",
       "1635    Johnson Fire   2019-10-14T15:32:20Z  POINT (-116.05898 33.45148)  \n",
       "\n",
       "[1636 rows x 13 columns]"
      ]
     },
     "execution_count": 11,
     "metadata": {},
     "output_type": "execute_result"
    }
   ],
   "source": [
    "WF_Trimmed"
   ]
  },
  {
   "cell_type": "markdown",
   "id": "93fe453f-8e0f-4c7e-9a8d-8138f7d1a118",
   "metadata": {},
   "source": [
    "There are a few wildfires that need to be dropped so I'm going to do that now. I think that since I convert to a geodataframe, I can still map those wildfires that don't listed as (0,0). I hope. That's just a realization I had...but I can't recall if that's correct. Also, I am not dropping duplicates this time.\n",
    "\n",
    "Right now though, I'm just going to create a table that shows the number wildfires by county. Afterwards, I'll be making a bar graph that shows the number of wildfires by year."
   ]
  },
  {
   "cell_type": "code",
   "execution_count": 12,
   "id": "35ed7f12-4f61-477b-a841-5151288aa91d",
   "metadata": {},
   "outputs": [],
   "source": [
    "# dropping State of Oregon and State of Nevada, Mexico points, and points that aren't in California proper.\n",
    "WF_Trimmed = WF_Trimmed.drop([1423])\n",
    "WF_Trimmed = WF_Trimmed.drop([1424])\n",
    "WF_Trimmed = WF_Trimmed.drop([1421])\n",
    "WF_Trimmed = WF_Trimmed.drop([1590])\n",
    "WF_Trimmed = WF_Trimmed.drop([113])\n",
    "WF_Trimmed = WF_Trimmed.drop([165])\n",
    "WF_Trimmed = WF_Trimmed.drop([627])"
   ]
  },
  {
   "cell_type": "code",
   "execution_count": 13,
   "id": "462f8301-ecbb-4dd8-aff4-6c7fb9b13e34",
   "metadata": {},
   "outputs": [],
   "source": [
    "## Number of Wildfires by County"
   ]
  },
  {
   "cell_type": "code",
   "execution_count": 14,
   "id": "8b341791-5ad6-448c-bcd7-fe12736a7d05",
   "metadata": {},
   "outputs": [
    {
     "data": {
      "text/plain": [
       "(1629, 13)"
      ]
     },
     "execution_count": 14,
     "metadata": {},
     "output_type": "execute_result"
    }
   ],
   "source": [
    "WF_Trimmed.shape"
   ]
  },
  {
   "cell_type": "code",
   "execution_count": 15,
   "id": "9d863ece-6c2f-41c5-bc95-ebba5ba7a910",
   "metadata": {},
   "outputs": [
    {
     "data": {
      "text/plain": [
       "['AcresBurned',\n",
       " 'AdminUnit',\n",
       " 'ArchiveYear',\n",
       " 'CalFireIncident',\n",
       " 'Counties',\n",
       " 'CountyIds',\n",
       " 'Extinguished',\n",
       " 'Latitude',\n",
       " 'Longitude',\n",
       " 'MajorIncident',\n",
       " 'Name',\n",
       " 'Started',\n",
       " 'geometry']"
      ]
     },
     "execution_count": 15,
     "metadata": {},
     "output_type": "execute_result"
    }
   ],
   "source": [
    "WF_Trimmed.columns.to_list()"
   ]
  },
  {
   "cell_type": "code",
   "execution_count": 16,
   "id": "cfe55451-38af-40e4-844c-6c46f5232039",
   "metadata": {},
   "outputs": [],
   "source": [
    "wildfire_count = WF_Trimmed['Counties'].value_counts()"
   ]
  },
  {
   "cell_type": "code",
   "execution_count": 17,
   "id": "9912d8d8-9bdf-4e0d-bb6a-56d1da2b8984",
   "metadata": {},
   "outputs": [],
   "source": [
    "wildfire_count = wildfire_count.reset_index()"
   ]
  },
  {
   "cell_type": "code",
   "execution_count": 18,
   "id": "d65cdb00-d7fe-40c7-a71c-e368b6a483a9",
   "metadata": {},
   "outputs": [
    {
     "data": {
      "text/plain": [
       "pandas.core.frame.DataFrame"
      ]
     },
     "execution_count": 18,
     "metadata": {},
     "output_type": "execute_result"
    }
   ],
   "source": [
    "type(wildfire_count)"
   ]
  },
  {
   "cell_type": "code",
   "execution_count": 19,
   "id": "f1b649c1-3590-49f8-8fd6-ff3d4531d1f9",
   "metadata": {},
   "outputs": [
    {
     "data": {
      "text/plain": [
       "<bound method IndexOpsMixin.tolist of Index(['index', 'Counties'], dtype='object')>"
      ]
     },
     "execution_count": 19,
     "metadata": {},
     "output_type": "execute_result"
    }
   ],
   "source": [
    "wildfire_count.columns.to_list"
   ]
  },
  {
   "cell_type": "code",
   "execution_count": 20,
   "id": "e2211273-85ae-4263-8b6e-188873e3c875",
   "metadata": {},
   "outputs": [],
   "source": [
    "wildfire_count.columns = ['Counties', 'Number of Wildfires']"
   ]
  },
  {
   "cell_type": "code",
   "execution_count": 21,
   "id": "a36b3ecd-743d-4d31-a4d2-5247d69830d3",
   "metadata": {},
   "outputs": [
    {
     "data": {
      "text/html": [
       "<div>\n",
       "<style scoped>\n",
       "    .dataframe tbody tr th:only-of-type {\n",
       "        vertical-align: middle;\n",
       "    }\n",
       "\n",
       "    .dataframe tbody tr th {\n",
       "        vertical-align: top;\n",
       "    }\n",
       "\n",
       "    .dataframe thead th {\n",
       "        text-align: right;\n",
       "    }\n",
       "</style>\n",
       "<table border=\"1\" class=\"dataframe\">\n",
       "  <thead>\n",
       "    <tr style=\"text-align: right;\">\n",
       "      <th></th>\n",
       "      <th>Counties</th>\n",
       "      <th>Number of Wildfires</th>\n",
       "    </tr>\n",
       "  </thead>\n",
       "  <tbody>\n",
       "    <tr>\n",
       "      <th>0</th>\n",
       "      <td>Riverside</td>\n",
       "      <td>145</td>\n",
       "    </tr>\n",
       "    <tr>\n",
       "      <th>1</th>\n",
       "      <td>San Diego</td>\n",
       "      <td>89</td>\n",
       "    </tr>\n",
       "    <tr>\n",
       "      <th>2</th>\n",
       "      <td>Butte</td>\n",
       "      <td>66</td>\n",
       "    </tr>\n",
       "    <tr>\n",
       "      <th>3</th>\n",
       "      <td>San Luis Obispo</td>\n",
       "      <td>64</td>\n",
       "    </tr>\n",
       "    <tr>\n",
       "      <th>4</th>\n",
       "      <td>Shasta</td>\n",
       "      <td>64</td>\n",
       "    </tr>\n",
       "    <tr>\n",
       "      <th>5</th>\n",
       "      <td>Kern</td>\n",
       "      <td>62</td>\n",
       "    </tr>\n",
       "    <tr>\n",
       "      <th>6</th>\n",
       "      <td>Fresno</td>\n",
       "      <td>57</td>\n",
       "    </tr>\n",
       "    <tr>\n",
       "      <th>7</th>\n",
       "      <td>Siskiyou</td>\n",
       "      <td>55</td>\n",
       "    </tr>\n",
       "    <tr>\n",
       "      <th>8</th>\n",
       "      <td>San Bernardino</td>\n",
       "      <td>53</td>\n",
       "    </tr>\n",
       "    <tr>\n",
       "      <th>9</th>\n",
       "      <td>Tehama</td>\n",
       "      <td>51</td>\n",
       "    </tr>\n",
       "    <tr>\n",
       "      <th>10</th>\n",
       "      <td>Lake</td>\n",
       "      <td>49</td>\n",
       "    </tr>\n",
       "    <tr>\n",
       "      <th>11</th>\n",
       "      <td>Los Angeles</td>\n",
       "      <td>46</td>\n",
       "    </tr>\n",
       "    <tr>\n",
       "      <th>12</th>\n",
       "      <td>Monterey</td>\n",
       "      <td>45</td>\n",
       "    </tr>\n",
       "    <tr>\n",
       "      <th>13</th>\n",
       "      <td>Santa Clara</td>\n",
       "      <td>39</td>\n",
       "    </tr>\n",
       "    <tr>\n",
       "      <th>14</th>\n",
       "      <td>El Dorado</td>\n",
       "      <td>37</td>\n",
       "    </tr>\n",
       "    <tr>\n",
       "      <th>15</th>\n",
       "      <td>Lassen</td>\n",
       "      <td>36</td>\n",
       "    </tr>\n",
       "    <tr>\n",
       "      <th>16</th>\n",
       "      <td>Madera</td>\n",
       "      <td>36</td>\n",
       "    </tr>\n",
       "    <tr>\n",
       "      <th>17</th>\n",
       "      <td>Tulare</td>\n",
       "      <td>35</td>\n",
       "    </tr>\n",
       "    <tr>\n",
       "      <th>18</th>\n",
       "      <td>Mariposa</td>\n",
       "      <td>35</td>\n",
       "    </tr>\n",
       "    <tr>\n",
       "      <th>19</th>\n",
       "      <td>Alameda</td>\n",
       "      <td>32</td>\n",
       "    </tr>\n",
       "    <tr>\n",
       "      <th>20</th>\n",
       "      <td>Modoc</td>\n",
       "      <td>31</td>\n",
       "    </tr>\n",
       "    <tr>\n",
       "      <th>21</th>\n",
       "      <td>Ventura</td>\n",
       "      <td>30</td>\n",
       "    </tr>\n",
       "    <tr>\n",
       "      <th>22</th>\n",
       "      <td>Santa Barbara</td>\n",
       "      <td>29</td>\n",
       "    </tr>\n",
       "    <tr>\n",
       "      <th>23</th>\n",
       "      <td>Mendocino</td>\n",
       "      <td>28</td>\n",
       "    </tr>\n",
       "    <tr>\n",
       "      <th>24</th>\n",
       "      <td>Contra Costa</td>\n",
       "      <td>27</td>\n",
       "    </tr>\n",
       "    <tr>\n",
       "      <th>25</th>\n",
       "      <td>Napa</td>\n",
       "      <td>25</td>\n",
       "    </tr>\n",
       "    <tr>\n",
       "      <th>26</th>\n",
       "      <td>Humboldt</td>\n",
       "      <td>25</td>\n",
       "    </tr>\n",
       "    <tr>\n",
       "      <th>27</th>\n",
       "      <td>Calaveras</td>\n",
       "      <td>22</td>\n",
       "    </tr>\n",
       "    <tr>\n",
       "      <th>28</th>\n",
       "      <td>Tuolumne</td>\n",
       "      <td>22</td>\n",
       "    </tr>\n",
       "    <tr>\n",
       "      <th>29</th>\n",
       "      <td>Trinity</td>\n",
       "      <td>21</td>\n",
       "    </tr>\n",
       "    <tr>\n",
       "      <th>30</th>\n",
       "      <td>San Benito</td>\n",
       "      <td>20</td>\n",
       "    </tr>\n",
       "    <tr>\n",
       "      <th>31</th>\n",
       "      <td>Stanislaus</td>\n",
       "      <td>20</td>\n",
       "    </tr>\n",
       "    <tr>\n",
       "      <th>32</th>\n",
       "      <td>Solano</td>\n",
       "      <td>19</td>\n",
       "    </tr>\n",
       "    <tr>\n",
       "      <th>33</th>\n",
       "      <td>Sonoma</td>\n",
       "      <td>18</td>\n",
       "    </tr>\n",
       "    <tr>\n",
       "      <th>34</th>\n",
       "      <td>Nevada</td>\n",
       "      <td>17</td>\n",
       "    </tr>\n",
       "    <tr>\n",
       "      <th>35</th>\n",
       "      <td>Placer</td>\n",
       "      <td>17</td>\n",
       "    </tr>\n",
       "    <tr>\n",
       "      <th>36</th>\n",
       "      <td>Merced</td>\n",
       "      <td>16</td>\n",
       "    </tr>\n",
       "    <tr>\n",
       "      <th>37</th>\n",
       "      <td>Yuba</td>\n",
       "      <td>14</td>\n",
       "    </tr>\n",
       "    <tr>\n",
       "      <th>38</th>\n",
       "      <td>Amador</td>\n",
       "      <td>13</td>\n",
       "    </tr>\n",
       "    <tr>\n",
       "      <th>39</th>\n",
       "      <td>Inyo</td>\n",
       "      <td>12</td>\n",
       "    </tr>\n",
       "    <tr>\n",
       "      <th>40</th>\n",
       "      <td>Yolo</td>\n",
       "      <td>12</td>\n",
       "    </tr>\n",
       "    <tr>\n",
       "      <th>41</th>\n",
       "      <td>Sacramento</td>\n",
       "      <td>11</td>\n",
       "    </tr>\n",
       "    <tr>\n",
       "      <th>42</th>\n",
       "      <td>Plumas</td>\n",
       "      <td>11</td>\n",
       "    </tr>\n",
       "    <tr>\n",
       "      <th>43</th>\n",
       "      <td>Mono</td>\n",
       "      <td>10</td>\n",
       "    </tr>\n",
       "    <tr>\n",
       "      <th>44</th>\n",
       "      <td>Orange</td>\n",
       "      <td>10</td>\n",
       "    </tr>\n",
       "    <tr>\n",
       "      <th>45</th>\n",
       "      <td>San Joaquin</td>\n",
       "      <td>8</td>\n",
       "    </tr>\n",
       "    <tr>\n",
       "      <th>46</th>\n",
       "      <td>Glenn</td>\n",
       "      <td>8</td>\n",
       "    </tr>\n",
       "    <tr>\n",
       "      <th>47</th>\n",
       "      <td>Colusa</td>\n",
       "      <td>6</td>\n",
       "    </tr>\n",
       "    <tr>\n",
       "      <th>48</th>\n",
       "      <td>Del Norte</td>\n",
       "      <td>6</td>\n",
       "    </tr>\n",
       "    <tr>\n",
       "      <th>49</th>\n",
       "      <td>Marin</td>\n",
       "      <td>6</td>\n",
       "    </tr>\n",
       "    <tr>\n",
       "      <th>50</th>\n",
       "      <td>Kings</td>\n",
       "      <td>5</td>\n",
       "    </tr>\n",
       "    <tr>\n",
       "      <th>51</th>\n",
       "      <td>Santa Cruz</td>\n",
       "      <td>4</td>\n",
       "    </tr>\n",
       "    <tr>\n",
       "      <th>52</th>\n",
       "      <td>San Mateo</td>\n",
       "      <td>3</td>\n",
       "    </tr>\n",
       "    <tr>\n",
       "      <th>53</th>\n",
       "      <td>Sutter</td>\n",
       "      <td>3</td>\n",
       "    </tr>\n",
       "    <tr>\n",
       "      <th>54</th>\n",
       "      <td>Alpine</td>\n",
       "      <td>2</td>\n",
       "    </tr>\n",
       "    <tr>\n",
       "      <th>55</th>\n",
       "      <td>Sierra</td>\n",
       "      <td>2</td>\n",
       "    </tr>\n",
       "  </tbody>\n",
       "</table>\n",
       "</div>"
      ],
      "text/plain": [
       "           Counties  Number of Wildfires\n",
       "0         Riverside                  145\n",
       "1         San Diego                   89\n",
       "2             Butte                   66\n",
       "3   San Luis Obispo                   64\n",
       "4            Shasta                   64\n",
       "5              Kern                   62\n",
       "6            Fresno                   57\n",
       "7          Siskiyou                   55\n",
       "8    San Bernardino                   53\n",
       "9            Tehama                   51\n",
       "10             Lake                   49\n",
       "11      Los Angeles                   46\n",
       "12         Monterey                   45\n",
       "13      Santa Clara                   39\n",
       "14        El Dorado                   37\n",
       "15           Lassen                   36\n",
       "16           Madera                   36\n",
       "17           Tulare                   35\n",
       "18         Mariposa                   35\n",
       "19          Alameda                   32\n",
       "20            Modoc                   31\n",
       "21          Ventura                   30\n",
       "22    Santa Barbara                   29\n",
       "23        Mendocino                   28\n",
       "24     Contra Costa                   27\n",
       "25             Napa                   25\n",
       "26         Humboldt                   25\n",
       "27        Calaveras                   22\n",
       "28         Tuolumne                   22\n",
       "29          Trinity                   21\n",
       "30       San Benito                   20\n",
       "31       Stanislaus                   20\n",
       "32           Solano                   19\n",
       "33           Sonoma                   18\n",
       "34           Nevada                   17\n",
       "35           Placer                   17\n",
       "36           Merced                   16\n",
       "37             Yuba                   14\n",
       "38           Amador                   13\n",
       "39             Inyo                   12\n",
       "40             Yolo                   12\n",
       "41       Sacramento                   11\n",
       "42           Plumas                   11\n",
       "43             Mono                   10\n",
       "44           Orange                   10\n",
       "45      San Joaquin                    8\n",
       "46            Glenn                    8\n",
       "47           Colusa                    6\n",
       "48        Del Norte                    6\n",
       "49            Marin                    6\n",
       "50            Kings                    5\n",
       "51       Santa Cruz                    4\n",
       "52        San Mateo                    3\n",
       "53           Sutter                    3\n",
       "54           Alpine                    2\n",
       "55           Sierra                    2"
      ]
     },
     "execution_count": 21,
     "metadata": {},
     "output_type": "execute_result"
    }
   ],
   "source": [
    "wildfire_count"
   ]
  },
  {
   "cell_type": "markdown",
   "id": "ca477655-4d35-452c-91e7-885967fe8080",
   "metadata": {},
   "source": [
    "As I mentioned previously, I didn't drop any duplicates or drop any of the wildfires without geometry coordinates. I did this to get as accurate of a number of wildfires in each county."
   ]
  },
  {
   "cell_type": "markdown",
   "id": "a2d97ab3-8e43-409f-b79d-bd4efb1eee92",
   "metadata": {},
   "source": [
    "I chose to do this as a table because I feel like it would be little unwieldy as a bar graph."
   ]
  },
  {
   "cell_type": "markdown",
   "id": "670e92ab-b6d1-4de4-a51e-eaa31450f65d",
   "metadata": {},
   "source": [
    "## Number of Wildfires by Year"
   ]
  },
  {
   "cell_type": "markdown",
   "id": "e55a9105-b728-4785-8f97-a130f96213f7",
   "metadata": {},
   "source": [
    "I'm creating another value counts dataframe for this. To make it easier to understand though, I'm going to rename one of columns. ArchiveYear will become Year."
   ]
  },
  {
   "cell_type": "code",
   "execution_count": 23,
   "id": "6dfe0af1-2db9-448e-a05e-e502b7838b2a",
   "metadata": {},
   "outputs": [
    {
     "data": {
      "text/plain": [
       "['AcresBurned',\n",
       " 'Active',\n",
       " 'AdminUnit',\n",
       " 'AirTankers',\n",
       " 'ArchiveYear',\n",
       " 'CalFireIncident',\n",
       " 'CanonicalUrl',\n",
       " 'ConditionStatement',\n",
       " 'ControlStatement',\n",
       " 'Counties',\n",
       " 'CountyIds',\n",
       " 'CrewsInvolved',\n",
       " 'Dozers',\n",
       " 'Engines',\n",
       " 'Extinguished',\n",
       " 'Fatalities',\n",
       " 'Featured',\n",
       " 'Final',\n",
       " 'FuelType',\n",
       " 'Helicopters',\n",
       " 'Injuries',\n",
       " 'Latitude',\n",
       " 'Location',\n",
       " 'Longitude',\n",
       " 'MajorIncident',\n",
       " 'Name',\n",
       " 'PercentContained',\n",
       " 'PersonnelInvolved',\n",
       " 'Public',\n",
       " 'SearchDescription',\n",
       " 'SearchKeywords',\n",
       " 'Started',\n",
       " 'Status',\n",
       " 'StructuresDamaged',\n",
       " 'StructuresDestroyed',\n",
       " 'StructuresEvacuated',\n",
       " 'StructuresThreatened',\n",
       " 'UniqueId',\n",
       " 'Updated',\n",
       " 'WaterTenders',\n",
       " 'geometry']"
      ]
     },
     "execution_count": 23,
     "metadata": {},
     "output_type": "execute_result"
    }
   ],
   "source": [
    "list(df)"
   ]
  },
  {
   "cell_type": "markdown",
   "id": "8702baec-f25e-470a-b9d6-0313161c5165",
   "metadata": {},
   "source": [
    "Whoops. Wrong one."
   ]
  },
  {
   "cell_type": "code",
   "execution_count": 24,
   "id": "e5f6163e-9d87-4584-ac40-58418a8af446",
   "metadata": {},
   "outputs": [
    {
     "data": {
      "text/plain": [
       "['AcresBurned',\n",
       " 'AdminUnit',\n",
       " 'ArchiveYear',\n",
       " 'CalFireIncident',\n",
       " 'Counties',\n",
       " 'CountyIds',\n",
       " 'Extinguished',\n",
       " 'Latitude',\n",
       " 'Longitude',\n",
       " 'MajorIncident',\n",
       " 'Name',\n",
       " 'Started',\n",
       " 'geometry']"
      ]
     },
     "execution_count": 24,
     "metadata": {},
     "output_type": "execute_result"
    }
   ],
   "source": [
    "list(WF_Trimmed)"
   ]
  },
  {
   "cell_type": "code",
   "execution_count": 26,
   "id": "15e42c5d-60a6-4016-81ab-1742754f1a4a",
   "metadata": {},
   "outputs": [],
   "source": [
    "WF_Trimmed.columns = ['Acres Burned',\n",
    " 'AdminUnit',\n",
    " 'Year',\n",
    " 'CalFire Incident',\n",
    " 'County',\n",
    " 'CountyIds',\n",
    " 'Date Extinguished',\n",
    " 'Latitude',\n",
    " 'Longitude',\n",
    " 'Major Incident',\n",
    " 'Name of Fire',\n",
    " 'Date Started',\n",
    " 'geometry']"
   ]
  },
  {
   "cell_type": "code",
   "execution_count": 27,
   "id": "4a74ebe1-49f0-4755-97dc-033d02a29465",
   "metadata": {},
   "outputs": [],
   "source": [
    "wildfire_count_yr = WF_Trimmed['Year'].value_counts()"
   ]
  },
  {
   "cell_type": "code",
   "execution_count": 28,
   "id": "b7200479-adfe-4544-a052-2e5c5fc20ed6",
   "metadata": {},
   "outputs": [],
   "source": [
    "wildfire_count_yr = wildfire_count_yr.reset_index()"
   ]
  },
  {
   "cell_type": "code",
   "execution_count": 29,
   "id": "92b0d480-f677-478e-bc3a-eb4b31a8a6e4",
   "metadata": {},
   "outputs": [
    {
     "data": {
      "text/plain": [
       "pandas.core.frame.DataFrame"
      ]
     },
     "execution_count": 29,
     "metadata": {},
     "output_type": "execute_result"
    }
   ],
   "source": [
    "type(wildfire_count_yr)"
   ]
  },
  {
   "cell_type": "code",
   "execution_count": 30,
   "id": "5b9c8677-0fd8-4036-a9b9-9afd400dd82f",
   "metadata": {},
   "outputs": [
    {
     "data": {
      "text/plain": [
       "<bound method IndexOpsMixin.tolist of Index(['index', 'Year'], dtype='object')>"
      ]
     },
     "execution_count": 30,
     "metadata": {},
     "output_type": "execute_result"
    }
   ],
   "source": [
    "wildfire_count_yr.columns.to_list"
   ]
  },
  {
   "cell_type": "code",
   "execution_count": 31,
   "id": "801ebb1d-aac0-4475-9163-4633fe39b8e7",
   "metadata": {},
   "outputs": [],
   "source": [
    "wildfire_count_yr.columns = ['Year', 'Number of Wildfires']"
   ]
  },
  {
   "cell_type": "code",
   "execution_count": 32,
   "id": "376f4322-a073-4708-ba4c-f013e9a4c22a",
   "metadata": {},
   "outputs": [
    {
     "data": {
      "text/html": [
       "<div>\n",
       "<style scoped>\n",
       "    .dataframe tbody tr th:only-of-type {\n",
       "        vertical-align: middle;\n",
       "    }\n",
       "\n",
       "    .dataframe tbody tr th {\n",
       "        vertical-align: top;\n",
       "    }\n",
       "\n",
       "    .dataframe thead th {\n",
       "        text-align: right;\n",
       "    }\n",
       "</style>\n",
       "<table border=\"1\" class=\"dataframe\">\n",
       "  <thead>\n",
       "    <tr style=\"text-align: right;\">\n",
       "      <th></th>\n",
       "      <th>Year</th>\n",
       "      <th>Number of Wildfires</th>\n",
       "    </tr>\n",
       "  </thead>\n",
       "  <tbody>\n",
       "    <tr>\n",
       "      <th>0</th>\n",
       "      <td>2017</td>\n",
       "      <td>437</td>\n",
       "    </tr>\n",
       "    <tr>\n",
       "      <th>1</th>\n",
       "      <td>2018</td>\n",
       "      <td>316</td>\n",
       "    </tr>\n",
       "    <tr>\n",
       "      <th>2</th>\n",
       "      <td>2019</td>\n",
       "      <td>262</td>\n",
       "    </tr>\n",
       "    <tr>\n",
       "      <th>3</th>\n",
       "      <td>2016</td>\n",
       "      <td>185</td>\n",
       "    </tr>\n",
       "    <tr>\n",
       "      <th>4</th>\n",
       "      <td>2013</td>\n",
       "      <td>161</td>\n",
       "    </tr>\n",
       "    <tr>\n",
       "      <th>5</th>\n",
       "      <td>2015</td>\n",
       "      <td>152</td>\n",
       "    </tr>\n",
       "    <tr>\n",
       "      <th>6</th>\n",
       "      <td>2014</td>\n",
       "      <td>116</td>\n",
       "    </tr>\n",
       "  </tbody>\n",
       "</table>\n",
       "</div>"
      ],
      "text/plain": [
       "   Year  Number of Wildfires\n",
       "0  2017                  437\n",
       "1  2018                  316\n",
       "2  2019                  262\n",
       "3  2016                  185\n",
       "4  2013                  161\n",
       "5  2015                  152\n",
       "6  2014                  116"
      ]
     },
     "execution_count": 32,
     "metadata": {},
     "output_type": "execute_result"
    }
   ],
   "source": [
    "wildfire_count_yr"
   ]
  },
  {
   "cell_type": "code",
   "execution_count": 33,
   "id": "7f7f2e8f-46e3-4dbe-b9cd-580712f41011",
   "metadata": {},
   "outputs": [
    {
     "data": {
      "text/html": [
       "<div>\n",
       "<style scoped>\n",
       "    .dataframe tbody tr th:only-of-type {\n",
       "        vertical-align: middle;\n",
       "    }\n",
       "\n",
       "    .dataframe tbody tr th {\n",
       "        vertical-align: top;\n",
       "    }\n",
       "\n",
       "    .dataframe thead th {\n",
       "        text-align: right;\n",
       "    }\n",
       "</style>\n",
       "<table border=\"1\" class=\"dataframe\">\n",
       "  <thead>\n",
       "    <tr style=\"text-align: right;\">\n",
       "      <th></th>\n",
       "      <th>Year</th>\n",
       "      <th>Number of Wildfires</th>\n",
       "    </tr>\n",
       "  </thead>\n",
       "  <tbody>\n",
       "    <tr>\n",
       "      <th>4</th>\n",
       "      <td>2013</td>\n",
       "      <td>161</td>\n",
       "    </tr>\n",
       "    <tr>\n",
       "      <th>6</th>\n",
       "      <td>2014</td>\n",
       "      <td>116</td>\n",
       "    </tr>\n",
       "    <tr>\n",
       "      <th>5</th>\n",
       "      <td>2015</td>\n",
       "      <td>152</td>\n",
       "    </tr>\n",
       "    <tr>\n",
       "      <th>3</th>\n",
       "      <td>2016</td>\n",
       "      <td>185</td>\n",
       "    </tr>\n",
       "    <tr>\n",
       "      <th>0</th>\n",
       "      <td>2017</td>\n",
       "      <td>437</td>\n",
       "    </tr>\n",
       "    <tr>\n",
       "      <th>1</th>\n",
       "      <td>2018</td>\n",
       "      <td>316</td>\n",
       "    </tr>\n",
       "    <tr>\n",
       "      <th>2</th>\n",
       "      <td>2019</td>\n",
       "      <td>262</td>\n",
       "    </tr>\n",
       "  </tbody>\n",
       "</table>\n",
       "</div>"
      ],
      "text/plain": [
       "   Year  Number of Wildfires\n",
       "4  2013                  161\n",
       "6  2014                  116\n",
       "5  2015                  152\n",
       "3  2016                  185\n",
       "0  2017                  437\n",
       "1  2018                  316\n",
       "2  2019                  262"
      ]
     },
     "execution_count": 33,
     "metadata": {},
     "output_type": "execute_result"
    }
   ],
   "source": [
    "# years in chronological order\n",
    "wildfire_count_yr = wildfire_count_yr.sort_values(by='Year', ascending=True)\n",
    "wildfire_count_yr"
   ]
  },
  {
   "cell_type": "markdown",
   "id": "94349c2e-25aa-4366-b07a-f20b26120fe8",
   "metadata": {},
   "source": [
    "Now to plot it!"
   ]
  },
  {
   "cell_type": "markdown",
   "id": "92aca09c-ecb1-4d86-be11-0afc45c68834",
   "metadata": {},
   "source": [
    "## Number of Wildfires Per Year from 2013 to 2020"
   ]
  },
  {
   "cell_type": "code",
   "execution_count": 34,
   "id": "56b41b66-f707-4933-aeec-da26379969c5",
   "metadata": {},
   "outputs": [
    {
     "data": {
      "text/plain": [
       "Text(0.5, 1.0, 'Number of Wildfires Per Year from 2013 to 2020')"
      ]
     },
     "execution_count": 34,
     "metadata": {},
     "output_type": "execute_result"
    },
    {
     "data": {
      "image/png": "[encoded data removed]",
      "text/plain": [
       "<Figure size 864x288 with 1 Axes>"
      ]
     },
     "metadata": {
      "needs_background": "light"
     },
     "output_type": "display_data"
    }
   ],
   "source": [
    "fig, ax = plt.subplots(figsize=(12, 4))\n",
    "\n",
    "wildfire_count_yr.plot.bar(ax=ax,\n",
    "                           x='Year',\n",
    "                           y='Number of Wildfires',\n",
    "                           color='orange'\n",
    "                          )\n",
    "\n",
    "ax.set_xlabel('Recorded Year of Wildfire Incidents')\n",
    "ax.set_ylabel('Number of Wildifires')\n",
    "ax.set_title(\"Number of Wildfires Per Year from 2013 to 2020\")"
   ]
  },
  {
   "cell_type": "code",
   "execution_count": null,
   "id": "3fcbd949-f32d-4359-bcfb-b247d8775587",
   "metadata": {},
   "outputs": [],
   "source": []
  }
 ],
 "metadata": {
  "kernelspec": {
   "display_name": "Python 3 (ipykernel)",
   "language": "python",
   "name": "python3"
  },
  "language_info": {
   "codemirror_mode": {
    "name": "ipython",
    "version": 3
   },
   "file_extension": ".py",
   "mimetype": "text/x-python",
   "name": "python",
   "nbconvert_exporter": "python",
   "pygments_lexer": "ipython3",
   "version": "3.9.6"
  }
 },
 "nbformat": 4,
 "nbformat_minor": 5
}
