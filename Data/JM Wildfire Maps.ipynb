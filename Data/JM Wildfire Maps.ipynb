{
 "cells": [
  {
   "cell_type": "markdown",
   "id": "1d05dc9b-5807-4a4e-8207-901fbfe11afa",
   "metadata": {},
   "source": [
    "## The goal of this workbook is to present a choropeth map featuring the number of acres burned"
   ]
  },
  {
   "cell_type": "code",
   "execution_count": null,
   "id": "608778a8-3343-4898-b410-6e5ed3930170",
   "metadata": {},
   "outputs": [],
   "source": []
  }
 ],
 "metadata": {
  "kernelspec": {
   "display_name": "Python 3 (ipykernel)",
   "language": "python",
   "name": "python3"
  },
  "language_info": {
   "codemirror_mode": {
    "name": "ipython",
    "version": 3
   },
   "file_extension": ".py",
   "mimetype": "text/x-python",
   "name": "python",
   "nbconvert_exporter": "python",
   "pygments_lexer": "ipython3",
   "version": "3.9.6"
  }
 },
 "nbformat": 4,
 "nbformat_minor": 5
}
